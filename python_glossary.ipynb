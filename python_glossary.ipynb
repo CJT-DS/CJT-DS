{
  "nbformat": 4,
  "nbformat_minor": 0,
  "metadata": {
    "colab": {
      "name": "python_glossary.ipynb",
      "provenance": [],
      "collapsed_sections": [],
      "authorship_tag": "ABX9TyODkm8xky3bQKT1vNP11YsS",
      "include_colab_link": true
    },
    "kernelspec": {
      "name": "python3",
      "display_name": "Python 3"
    },
    "language_info": {
      "name": "python"
    }
  },
  "cells": [
    {
      "cell_type": "markdown",
      "metadata": {
        "id": "view-in-github",
        "colab_type": "text"
      },
      "source": [
        "<a href=\"https://colab.research.google.com/github/CJT-DS/CJT-DS/blob/main/python_glossary.ipynb\" target=\"_parent\"><img src=\"https://colab.research.google.com/assets/colab-badge.svg\" alt=\"Open In Colab\"/></a>"
      ]
    },
    {
      "cell_type": "markdown",
      "source": [
        "# Glossary from Python Crash Course"
      ],
      "metadata": {
        "id": "4XLhVDUruvSH"
      }
    },
    {
      "cell_type": "code",
      "source": [
        "term = input('Enter the term you want to define: ')"
      ],
      "metadata": {
        "colab": {
          "base_uri": "https://localhost:8080/"
        },
        "id": "RGVL2uSLu0wG",
        "outputId": "eb876fec-4ce7-4647-c001-df3e6445850a"
      },
      "execution_count": 17,
      "outputs": [
        {
          "name": "stdout",
          "output_type": "stream",
          "text": [
            "Enter the term you want to define: float\n"
          ]
        }
      ]
    },
    {
      "cell_type": "code",
      "execution_count": 18,
      "metadata": {
        "id": "ORBN0-8Rutac"
      },
      "outputs": [],
      "source": [
        "glossary = {\n",
        "    'float': 'number with a decimal point',\n",
        "    'integer': 'number without a decimal point',\n",
        "    'modulo': 'remainder of two divided items',\n",
        "    'for loop': 'loop that runs over each item in a list once',\n",
        "    'while loop': 'loop that runs until a condition is no longer true',\n",
        "    'flag': 'boolean statement that has multiple test conditions which result in its value being False',\n",
        "    'break statement': 'statement that stops the loop, regardless of the result of a conditional test',\n",
        "    'quit statement': 'statement that allows the user to stop a loop when an input is used',\n",
        "    'boolean': 'type of data that is either True or False',\n",
        "    'input()': 'function where the user determines its value',\n",
        "    'items()': 'function to display information in a dictionary',\n",
        "    'keys()': 'function that displays the keyword in a dictionary'\n",
        "}"
      ]
    },
    {
      "cell_type": "code",
      "source": [
        "print(f\"A {term} is a {glossary[term]}.\")"
      ],
      "metadata": {
        "colab": {
          "base_uri": "https://localhost:8080/"
        },
        "id": "DcCK-LbevDTQ",
        "outputId": "2057fd70-3ee8-4149-d424-d8e283494788"
      },
      "execution_count": 19,
      "outputs": [
        {
          "output_type": "stream",
          "name": "stdout",
          "text": [
            "A float is a number with a decimal point.\n"
          ]
        }
      ]
    }
  ]
}